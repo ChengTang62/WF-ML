{
 "cells": [
  {
   "cell_type": "code",
   "execution_count": 5,
   "id": "1bd019d9",
   "metadata": {},
   "outputs": [
    {
     "name": "stdout",
     "output_type": "stream",
     "text": [
      "cumul\n",
      "10-fold Cross Validation Accuracy Scores: [0.65, 0.6, 0.725, 0.525, 0.75, 0.65, 0.55, 0.625, 0.625, 0.675]\n",
      "Mean Accuracy: 0.6375\n",
      "Standard Deviation of Accuracy: 0.06637959023675875\n",
      "[0.65, 0.6, 0.725, 0.525, 0.75, 0.65, 0.55, 0.625, 0.625, 0.675]\n",
      "95% Confidence Interval: 0.5964 to 0.6786\n"
     ]
    }
   ],
   "source": [
    "#!/usr/bin/env python3\n",
    "# -*- coding: utf-8 -*-\n",
    "\"\"\"\n",
    "Created on Sat Nov 10 16:28:28 2018\n",
    "Updated for Cross-Validation\n",
    "\"\"\"\n",
    "\n",
    "import constants as ct\n",
    "import argparse\n",
    "import joblib\n",
    "import numpy as np\n",
    "from sklearn import preprocessing, metrics\n",
    "from sklearn.model_selection import StratifiedKFold\n",
    "from sklearn.ensemble import RandomForestClassifier  # or any other classifier\n",
    "from math import sqrt\n",
    "\n",
    "def parse_arguments():\n",
    "    parser = argparse.ArgumentParser(description='Evaluate with Cross Validation.')\n",
    "    parser.add_argument('-p',\n",
    "                        metavar='<feature path>',\n",
    "                        help='Path to the directory of the extracted features')\n",
    "    parser.add_argument('-k',\n",
    "                        type=int,\n",
    "                        default=5,\n",
    "                        help='Number of folds for cross-validation (default: 5)')\n",
    "    args = parser.parse_args()\n",
    "    return args\n",
    "\n",
    "def cross_validate(X, y, k):\n",
    "    skf = StratifiedKFold(n_splits=k, shuffle=True, random_state=42)\n",
    "    accuracies = []\n",
    "\n",
    "    for train_index, test_index in skf.split(X, y):\n",
    "        X_train, X_test = X[train_index], X[test_index]\n",
    "        y_train, y_test = y[train_index], y[test_index]\n",
    "\n",
    "        # Normalize the data\n",
    "        scaler = preprocessing.MinMaxScaler((-1, 1))\n",
    "        X_train = scaler.fit_transform(X_train)\n",
    "        X_test = scaler.transform(X_test)\n",
    "\n",
    "        # Initialize your classifier\n",
    "        model = RandomForestClassifier(n_estimators=100, random_state=42)  # Example classifier\n",
    "        model.fit(X_train, y_train)\n",
    "\n",
    "        # Make predictions\n",
    "        y_pred = model.predict(X_test)\n",
    "\n",
    "        # Calculate accuracy\n",
    "        accuracy = metrics.accuracy_score(y_test, y_pred)\n",
    "        accuracies.append(accuracy)\n",
    "    return accuracies\n",
    "\n",
    "# Load data\n",
    "dic = np.load(\"/Users/ct/Library/Mobile Documents/com~apple~CloudDocs/cybersecurity_robotics/WebsiteFingerprinting/attacks/cumul/results/torque_data.npy\", allow_pickle=True).item()\n",
    "X = np.array(dic['feature'])\n",
    "y = np.array(dic['label'])\n",
    "\n",
    "# Perform cross-validation\n",
    "acc_scores = cross_validate(X, y, 10)\n",
    "mean_accuracy = np.mean(acc_scores)\n",
    "std_dev = np.std(acc_scores)\n",
    "print('cumul')\n",
    "print('10-fold Cross Validation Accuracy Scores:', acc_scores)\n",
    "print('Mean Accuracy:', mean_accuracy)\n",
    "print('Standard Deviation of Accuracy:', std_dev)\n",
    "print(acc_scores)\n",
    "z_value = 1.96  # For a 95% confidence interval\n",
    "margin_of_error = z_value * (std_dev / sqrt(10))\n",
    "lower_bound = mean_accuracy - margin_of_error\n",
    "upper_bound = mean_accuracy + margin_of_error\n",
    "confidence_interval = (lower_bound, upper_bound)\n",
    "print(\"95% Confidence Interval: {:.4f} to {:.4f}\".format(*confidence_interval))    "
   ]
  },
  {
   "cell_type": "code",
   "execution_count": null,
   "id": "85a1f037",
   "metadata": {},
   "outputs": [],
   "source": []
  }
 ],
 "metadata": {
  "kernelspec": {
   "display_name": "Python 3 (ipykernel)",
   "language": "python",
   "name": "python3"
  },
  "language_info": {
   "codemirror_mode": {
    "name": "ipython",
    "version": 3
   },
   "file_extension": ".py",
   "mimetype": "text/x-python",
   "name": "python",
   "nbconvert_exporter": "python",
   "pygments_lexer": "ipython3",
   "version": "3.8.16"
  }
 },
 "nbformat": 4,
 "nbformat_minor": 5
}
